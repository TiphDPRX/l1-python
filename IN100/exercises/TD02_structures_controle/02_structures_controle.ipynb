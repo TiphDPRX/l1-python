{
 "cells": [
  {
   "cell_type": "markdown",
   "metadata": {
    "slideshow": {
     "slide_type": "slide"
    }
   },
   "source": [
    "# TD 2: Les structures de contrôle\n",
    "\n",
    "---\n",
    "\n",
    "## 0. Récupération des nouveaux documents\n",
    "\n",
    "\n",
    "Les sujets de TD ainsi que les supports de cours sont publiés en ligne au fur et à mesure sur l'espace github original [https://github.com/uvsq-info/l1-python](https://github.com/uvsq-info/l1-python). Au moment où vous avez fait le fork de cet espace sur votre espace personnel, il est probable que tous les contenus n'étaient pas présents. Pour compléter votre espace, deux solutions sont possibles:\n",
    "\n",
    "\n",
    "1. (solution à privilégier) aller sur la page du projet original [https://github.com/uvsq-info/l1-python](https://github.com/uvsq-info/l1-python), et cliquer sur le bouton vert `Code` en haut à droite. Choisir `download ZIP`, puis extraire l'ensemble des nouveaux fichiers vers votre projet personnel local. Vous pouvez ensuite sauvegarder ces ajouts dans votre espace github personnel en suivant la procédure habituelle.\n",
    "2. (solution qui présente des risques de conflits entre différentes versions d'un même document) en ligne de commande dans le terminal, en suivant la procédure de la section *Intégrer les mises à jour du projet original* du fichier [README.md](https://github.com/uvsq-info/l1-python/blob/master/README.md#int%C3%A9grer-les-mises-%C3%A0-jour-du-projet-original)\n"
   ]
  },
  {
   "cell_type": "markdown",
   "metadata": {
    "slideshow": {
     "slide_type": "slide"
    }
   },
   "source": [
    "---\n",
    "\n",
    "## 1. Premiers exercices avec les structures conditionnelles\n",
    "\n",
    "**Exercice 1:**\n",
    "\n",
    "1. Soit *num1 = 15* et *num2 = 5*. Ecrire un programme qui affiche *Factors!* si l'un des nombres est un facteur de l'autre (c'est-à-dire qu'il divise l'autre nombre). Si aucun des nombres n'est un facteur de l'autre, le programme n'affiche rien.\n",
    "2. Changer le code que vous avez écrit de telle sorte qu'il affiche toujours *Factors!* si un nombre est un facteur de l'autre, mais qui affiche aussi *Not factors!* si aucun des nombres n'est un facteur de l'autre."
   ]
  },
  {
   "cell_type": "code",
   "execution_count": 9,
   "metadata": {
    "slideshow": {
     "slide_type": "notes"
    }
   },
   "outputs": [
    {
     "name": "stdout",
     "output_type": "stream",
     "text": [
      "Factors!\n"
     ]
    }
   ],
   "source": [
    "num1=15\n",
    "num2=5\n",
    "if num1 % num2==0 :\n",
    "    print(\"Factors!\")\n",
    "if num2 % num1==0 :\n",
    "    print(\"Factor\")"
   ]
  },
  {
   "cell_type": "code",
   "execution_count": 7,
   "metadata": {},
   "outputs": [
    {
     "name": "stdout",
     "output_type": "stream",
     "text": [
      "not factors!\n"
     ]
    }
   ],
   "source": [
    "#correction : 1.2\n",
    "num1 =34\n",
    "num2 = 3\n",
    "if num1%num2==0:\n",
    "    print(num2, \"divise\", num1)\n",
    "elif num2%num1==0 :\n",
    "    print(num1, \"divise\", num2)\n",
    "else:\n",
    "    print(\"not factors!\")\n"
   ]
  },
  {
   "cell_type": "markdown",
   "metadata": {
    "slideshow": {
     "slide_type": "slide"
    }
   },
   "source": [
    "**Exercice 2:**\n",
    "    \n",
    "Soit *state = \"Georgia\"*. Ecrire un programme qui permet d'afficher un message spécifique en fonction de la variable *state* :  \n",
    "* \"School isn't cancelled.\" si nous sommes à New Jersey,  \n",
    "* \"School is postponed.\" si nous sommes à North Carolina,\n",
    "* \"School is cancelled!\" si nous sommes à Georgia,  \n",
    "* \"School's status is unknown\" si nous ne sommes pas dans un des trois états précédemment mentionnés."
   ]
  },
  {
   "cell_type": "code",
   "execution_count": 12,
   "metadata": {
    "slideshow": {
     "slide_type": "notes"
    }
   },
   "outputs": [
    {
     "name": "stdout",
     "output_type": "stream",
     "text": [
      "School cancelled!\n"
     ]
    }
   ],
   "source": [
    "state = \"Georgia\"\n",
    "if state ==\"NewJersey\":\n",
    "    print(\"school isn't cancelled\")\n",
    "elif state ==\"North Carolina\":\n",
    "    print(\"School is postponed\")\n",
    "elif state==\"Georgia\":\n",
    "    print(\"School cancelled!\")\n",
    "else:\n",
    "    print(\"School's status is unkown\")"
   ]
  },
  {
   "cell_type": "markdown",
   "metadata": {
    "slideshow": {
     "slide_type": "slide"
    }
   },
   "source": [
    "**Exercice 3:**\n",
    "\n",
    "Ecrire un programme pour découvrir le signe du zodiaque chinois pour une année donnée. Le signe du zodiaque chinois est basé sur un cycle de 12 ans et chaque année de ce cycle est représentée par un animal :\n",
    "* 0: monkey\n",
    "* 1: rooster\n",
    "* 2: dog\n",
    "* 3: pig\n",
    "* 4: rat\n",
    "* 5: ox\n",
    "* 6: tiger\n",
    "* 7: rabbit\n",
    "* 8: dragon\n",
    "* 9: snake\n",
    "* 10: horse\n",
    "* 11: sheep\n",
    "\n",
    "La valeur de l'année % 12 détermine le signe du zodiaque. Par exemple, 1900 est l'année du *rat* puisque 1900 % 12 est 4."
   ]
  },
  {
   "cell_type": "code",
   "execution_count": 3,
   "metadata": {
    "slideshow": {
     "slide_type": "notes"
    }
   },
   "outputs": [
    {
     "name": "stdout",
     "output_type": "stream",
     "text": [
      "rat\n"
     ]
    }
   ],
   "source": [
    "year=1900\n",
    "list1=[\"monkey\", \"rooster\", \"dog\", \"pig\", \"rat\", \"ox\", \"tiger\", \"rabbit\", \"dragon\", \"snake\", \"horse\", \"sheep\"]\n",
    "print(list1[year%12])"
   ]
  },
  {
   "cell_type": "markdown",
   "metadata": {
    "slideshow": {
     "slide_type": "slide"
    }
   },
   "source": [
    "**Exercice 4:**\n",
    "\n",
    "Soit *temperature = -3.7* et *celsius = True*. *celsius* est une variable booléenne qui indique si la température est en Celsius; si c'est *False*, alors la température donnée est en Fahrenheit. Ecrire un premier programme en utilisant *if-else* seulement qui permet d'afficher *Freezing* si les valeurs données représentent une température très basse, et *Not freezing* si ce n'est pas le cas. En Celsius, on considère qu'il fait très froid lorsque la température est inférieure ou égale à 0 degré. En Fahrenheit, on considère qu'il fait très froid lorsque la température est inférieure ou égale à 32 degrés. Proposer une seconde solution en utilisant *if-elif-else* à ce même problème."
   ]
  },
  {
   "cell_type": "code",
   "execution_count": 23,
   "metadata": {
    "slideshow": {
     "slide_type": "notes"
    }
   },
   "outputs": [
    {
     "name": "stdout",
     "output_type": "stream",
     "text": [
      "Not Freezing\n"
     ]
    }
   ],
   "source": [
    "temperature = 340\n",
    "celsius = False\n",
    "if (celsius == True and temperature <= 0) or (celsius==False and temperature <= 32):\n",
    "    print(\"Freezing\")\n",
    "else :\n",
    "    print(\"Not Freezing\")"
   ]
  },
  {
   "cell_type": "markdown",
   "metadata": {
    "slideshow": {
     "slide_type": "slide"
    }
   },
   "source": [
    "**Exercice 5:**\n",
    "    \n",
    "Ecrire un programme qui permet de déterminer si une année est bissextile ou non en utilisant une seule instruction *if-else*. Une année *A* est bissextile si *A* est divisible par 4. Elle ne l’est cependant pas si *A* est un multiple\n",
    "de 100, à moins que *A* ne soit multiple de 400.    "
   ]
  },
  {
   "cell_type": "code",
   "execution_count": 25,
   "metadata": {
    "slideshow": {
     "slide_type": "notes"
    }
   },
   "outputs": [
    {
     "name": "stdout",
     "output_type": "stream",
     "text": [
      "Bissextile !\n"
     ]
    }
   ],
   "source": [
    "year = 2012\n",
    "if (year % 4 == 0 and not year % 100 == 0) or year % 400 == 0 :\n",
    "    print(\"Bissextile !\")\n",
    "else :\n",
    "    print(\"Not bissextile :(\")"
   ]
  },
  {
   "cell_type": "markdown",
   "metadata": {},
   "source": [
    "---\n",
    "\n",
    "## 2. Premiers exercices avec les structures itératives\n",
    "\n",
    "**Exercice 6:**\n",
    "\n",
    "1. Ecrire un programme qui permet d'afficher tous les nombres entre 1 et 10 (bornes incluses).\n",
    "2. Ecrire un programme se limitant à la boucle *for* qui permet d'afficher tous les nombres pairs entre 1 et 20 (bornes incluses). Proposer une deuxième solution en incluant une structure conditionnelle."
   ]
  },
  {
   "cell_type": "code",
   "execution_count": 27,
   "metadata": {},
   "outputs": [
    {
     "name": "stdout",
     "output_type": "stream",
     "text": [
      "i= 1\n",
      "i= 2\n",
      "i= 3\n",
      "i= 4\n",
      "i= 5\n",
      "i= 6\n",
      "i= 7\n",
      "i= 8\n",
      "i= 9\n",
      "i= 10\n",
      "Terminé!\n"
     ]
    }
   ],
   "source": [
    "for i in range (1, 11):\n",
    "    print(\"i=\", i)\n",
    "print(\"Terminé!\")\n"
   ]
  },
  {
   "cell_type": "code",
   "execution_count": 2,
   "metadata": {},
   "outputs": [
    {
     "name": "stdout",
     "output_type": "stream",
     "text": [
      "2\n",
      "4\n",
      "6\n",
      "8\n",
      "10\n",
      "12\n",
      "14\n",
      "16\n",
      "18\n",
      "20\n"
     ]
    }
   ],
   "source": [
    "#correction : 6.2\n",
    "\n",
    "for i in range (2, 21, 2) :\n",
    "    print(i)"
   ]
  },
  {
   "cell_type": "markdown",
   "metadata": {},
   "source": [
    "**Exercice 7:**\n",
    "    \n",
    "1. Ecrire un programme qui demande à l'utilisateur de saisir *n* nombres, *n* étant choisi par l'utilisateur, puis d'afficher la moyenne de ces nombres.\n",
    "\n",
    "2. Même question, mais l'utilisateur ne choisit pas à l'avance le nombre *n*, la procédure s'arrête quand il saisit le nombre -1.\n"
   ]
  },
  {
   "cell_type": "code",
   "execution_count": 37,
   "metadata": {},
   "outputs": [
    {
     "name": "stdout",
     "output_type": "stream",
     "text": [
      "2.0\n"
     ]
    }
   ],
   "source": [
    "\n",
    "n = int(input(\"Combien de nombres souhaitez vous saisir ?\"))\n",
    "result = 0\n",
    "for i in range (1, n+1):\n",
    "    result += int(input(\"Choisir un nombre\"))\n",
    "print(result / n)"
   ]
  },
  {
   "cell_type": "code",
   "execution_count": 20,
   "metadata": {},
   "outputs": [
    {
     "name": "stdout",
     "output_type": "stream",
     "text": [
      "3.0\n"
     ]
    }
   ],
   "source": [
    "#correction: 7.1\n",
    "\n",
    "n = int(input(\"please select a number\"))\n",
    "total = 0\n",
    "for i in range (0, n):\n",
    "    total += int(input(\"please enter a number\"))\n",
    "print(total/n)\n"
   ]
  },
  {
   "cell_type": "code",
   "execution_count": 8,
   "metadata": {},
   "outputs": [
    {
     "name": "stdout",
     "output_type": "stream",
     "text": [
      "1.3333333333333333\n"
     ]
    }
   ],
   "source": [
    "#correction 7.2\n",
    "n = int(input(\"enter a number\"))\n",
    "total = 0\n",
    "counter = 1\n",
    "while n!= -1 :\n",
    "     total+=n\n",
    "     counter += 1\n",
    "     n = int(input(\"enter a number\"))\n",
    "print((total/counter))\n",
    "\n"
   ]
  },
  {
   "cell_type": "code",
   "execution_count": 4,
   "metadata": {},
   "outputs": [
    {
     "name": "stdout",
     "output_type": "stream",
     "text": [
      "3\n",
      "3\n",
      "1.0\n"
     ]
    }
   ],
   "source": [
    "i=0\n",
    "n=0\n",
    "s=0\n",
    "while(i != -1):\n",
    "    i = int(input(\"Choisir un nombre\"))\n",
    "    s += i\n",
    "    n +=1\n",
    "print(s)\n",
    "print(n)\n",
    "print(s / n)\n",
    "\n",
    "\n",
    "    "
   ]
  },
  {
   "cell_type": "markdown",
   "metadata": {},
   "source": [
    "**Exercice 8:**\n",
    "\n",
    "Ecrire un programme qui permet de calculer le factoriel d'un nombre positif donné par l'utlisateur selon la formule suivante : \n",
    "n! = 1 x 2 x ... x n.  \n",
    "\n",
    "1. Une première version en utilisant la boucle *for*\n",
    "2. Une seconde version en utilisant la boucle *while*"
   ]
  },
  {
   "cell_type": "code",
   "execution_count": 49,
   "metadata": {},
   "outputs": [
    {
     "name": "stdout",
     "output_type": "stream",
     "text": [
      "n!= 24\n"
     ]
    }
   ],
   "source": [
    "n=4\n",
    "s = 1\n",
    "for i in range (1, n+1):\n",
    "    s *= i\n",
    "print(\"n!=\",  s) "
   ]
  },
  {
   "cell_type": "code",
   "execution_count": 23,
   "metadata": {},
   "outputs": [
    {
     "name": "stdout",
     "output_type": "stream",
     "text": [
      "3!=6\n"
     ]
    }
   ],
   "source": [
    "#correction 8.1\n",
    "n= int(input(\"please enter a number\"))\n",
    "fact_n=1\n",
    "for i in range(1, n+1) :\n",
    "    fact_n *=i\n",
    "print(str(n)+\"!=\"+str(fact_n))"
   ]
  },
  {
   "cell_type": "code",
   "execution_count": 51,
   "metadata": {},
   "outputs": [
    {
     "name": "stdout",
     "output_type": "stream",
     "text": [
      "n!= 24\n"
     ]
    }
   ],
   "source": [
    "n = 4\n",
    "i = 1\n",
    "s = 1\n",
    "while(i != n + 1):\n",
    "    s *= i\n",
    "    i += 1\n",
    "print(\"n!=\",  s)"
   ]
  },
  {
   "cell_type": "code",
   "execution_count": 10,
   "metadata": {},
   "outputs": [
    {
     "name": "stdout",
     "output_type": "stream",
     "text": [
      "5!=120\n"
     ]
    }
   ],
   "source": [
    "#correction : 8.2\n",
    "n= int(input(\"please enter a number\"))\n",
    "fact_n=1\n",
    "#for i in range(1, n+1)\n",
    "i=1\n",
    "while i< n+1 :\n",
    "    fact_n*=i\n",
    "    i = i+1\n",
    "print(str(n)+\"!=\"+str(fact_n))\n"
   ]
  },
  {
   "cell_type": "markdown",
   "metadata": {
    "slideshow": {
     "slide_type": "slide"
    }
   },
   "source": [
    "---\n",
    "\n",
    "## 3. Pour aller plus loin\n",
    "\n",
    "**Excercice 9:**\n",
    "\n",
    "Ecrire un programme qui permet de connaître le jour de naissance de l'utilisateur en posant cinq questions.\n",
    "Chaque question demande si le jour est dans l'un des cinq ensembles suivants :\n",
    "\n",
    "* Set 1: \\[1 3 5 7 9 11 13 15 17 19 21 23 25 27 29 31\\]\n",
    "* Set 2: \\[2 3 6 7 10 11 14 15 18 19 22 23 26 27 30 31\\]\n",
    "* Set 3: \\[4 5 6 7 12 13 14 15 20 21 22 23 28 29 30 31\\]\n",
    "* Set 4: \\[8 9 10 11 12 13 14 15 24 25 26 27 28 29 30 31\\]\n",
    "* Set 5: \\[16 17 18 19 20 21 22 23 24 25 26 27 28 29 30 31\\]\n",
    "    \n",
    "\n",
    "Le jour de naissance est la somme des premiers nombres dans les ensembles où le jour apparaît. Par exemple,\n",
    "si le jour de naissance est 19, il apparaît dans Set 1, Set 2 et Set 5. Les premiers chiffres de ces trois ensembles sont 1, 2 et 16. Leur somme est 19."
   ]
  },
  {
   "cell_type": "code",
   "execution_count": 62,
   "metadata": {},
   "outputs": [
    {
     "name": "stdout",
     "output_type": "stream",
     "text": [
      "Votre jour de naissance est le 14\n"
     ]
    }
   ],
   "source": [
    "#méthode plus rapide avec une liste\n",
    "list1 = [1, 3, 5, 7, 9, 17, 19, 21, 23, 25, 27, 29, 31]\n",
    "list2 = [2, 3, 6, 7, 10, 11, 14, 15, 18, 19, 22, 23, 26, 27, 30, 31]\n",
    "list3 = [4, 5, 6, 7, 12, 13, 14, 15, 20, 21, 22, 23, 28, 29, 30, 31]\n",
    "list4 = [8, 9, 10, 11, 12, 13, 14, 15, 24, 25, 26, 27, 28, 29, 30]\n",
    "list5 = [16, 17, 18, 19, 20, 21, 22, 23, 24, 25, 26, 27 , 28, 29, 30, 31]\n",
    "n = int(input(\"Quel est votre jour de naissance?\"))\n",
    "sum = 0\n",
    "if n in list1 :\n",
    "    sum = list1[0]\n",
    "if n in list2 :\n",
    "    sum += list2[0]\n",
    "if n in list3 :\n",
    "    sum += list3[0]\n",
    "if n in list4 :\n",
    "    sum += list4[0]\n",
    "if n in list5 :\n",
    "    sum += list5[0]\n",
    "print(\"Votre jour de naissance est le\", sum)"
   ]
  },
  {
   "cell_type": "code",
   "execution_count": 80,
   "metadata": {
    "slideshow": {
     "slide_type": "notes"
    }
   },
   "outputs": [
    {
     "name": "stdout",
     "output_type": "stream",
     "text": [
      "1\n",
      "0\n",
      "0\n",
      "0\n",
      "16\n",
      "votre jour de naissance est le 17\n"
     ]
    }
   ],
   "source": [
    "s1 = input(\"Votre jour de naissance se trouve-t-il dans le set 1? (repondre par ’oui’ ou ’non’)\")\n",
    "if s1 == \"oui\" :\n",
    "    a = 1\n",
    "else : a = 0\n",
    "print(a)\n",
    "\n",
    "s2 = input(\"Votre jour de naissance se trouve-t-il dans le set 2? (repondre par ’oui’ ou ’non’)\")\n",
    "if s2 == \"oui\" :\n",
    "    b=2\n",
    "else : b = 0\n",
    "print(b)\n",
    "\n",
    "s3 = input(\"Votre jour de naissance se trouve-t-il dans le set 3? (repondre par ’oui’ ou ’non’)\")\n",
    "if s3 == \"oui\" :\n",
    "    c=4\n",
    "else : c = 0\n",
    "print(c)\n",
    "\n",
    "s4= input(\"Votre jour de naissance se trouve-t-il dans le set 4? (repondre par ’oui’ ou ’non’)\")\n",
    "if s4 == \"oui\" :\n",
    "    d=8\n",
    "else : d = 0\n",
    "print(d)\n",
    "\n",
    "s5= input(\"Votre jour de naissance se trouve-t-il dans le set 5? (repondre par ’oui’ ou ’non’)\")\n",
    "if s5 == \"oui\" :\n",
    "    e=16\n",
    "else : e = 0\n",
    "print(e)\n",
    "\n",
    "total = a + b + c + d + e\n",
    "print(\"votre jour de naissance est le\", total)\n",
    "\n",
    "\n"
   ]
  },
  {
   "cell_type": "code",
   "execution_count": 34,
   "metadata": {},
   "outputs": [
    {
     "ename": "SyntaxError",
     "evalue": "Missing parentheses in call to 'print'. Did you mean print(day)? (2339353922.py, line 28)",
     "output_type": "error",
     "traceback": [
      "\u001b[0;36m  File \u001b[0;32m\"/var/folders/t4/9yts_6c95g9dzy6mtx37_p7r0000gn/T/ipykernel_941/2339353922.py\"\u001b[0;36m, line \u001b[0;32m28\u001b[0m\n\u001b[0;31m    print day\u001b[0m\n\u001b[0m          ^\u001b[0m\n\u001b[0;31mSyntaxError\u001b[0m\u001b[0;31m:\u001b[0m Missing parentheses in call to 'print'. Did you mean print(day)?\n"
     ]
    }
   ],
   "source": [
    "#correction\n",
    "day = 0\n",
    "question = \"is your birthday in set 1? 1 si oui 2 si non.\"\n",
    "answer = int(input(question))\n",
    "if answer == 1 :\n",
    "    day += 1\n",
    "\n",
    "question = \"is your birthday in set 1? 1 si oui 2 si non.\"\n",
    "answer = int(input(question))\n",
    "if answer == 1 :\n",
    "    day += 2\n",
    "\n",
    "question = \"is your birthday in set 1? 1 si oui 2 si non.\"\n",
    "answer = int(input(question))\n",
    "if answer == 1 :\n",
    "    day += 4\n",
    "\n",
    "question = \"is your birthday in set 1? 1 si oui 2 si non.\"\n",
    "answer = int(input(question))\n",
    "if answer == 1 :\n",
    "    day += 8\n",
    "\n",
    "question = \"is your birthday in set 1? 1 si oui 2 si non.\"\n",
    "answer = int(input(question))\n",
    "if answer == 1 :\n",
    "    day += 16\n",
    "\n",
    "print(day)\n"
   ]
  },
  {
   "cell_type": "code",
   "execution_count": 38,
   "metadata": {},
   "outputs": [
    {
     "name": "stdout",
     "output_type": "stream",
     "text": [
      "14\n"
     ]
    }
   ],
   "source": [
    "#correction avec \"boucle for\"\n",
    "\n",
    "day = 0\n",
    "values = [1, 2, 4 ,8, 16]\n",
    "\n",
    "for i in range (1, 6):\n",
    "    question = \"is tour birthday in set \" + str(i)+ \"? 1 si oui, 2 si non.\"\n",
    "    answer = int(input(question))\n",
    "    if answer == 1:\n",
    "        day += values[i-1]\n",
    "print (day)"
   ]
  },
  {
   "cell_type": "markdown",
   "metadata": {
    "slideshow": {
     "slide_type": "slide"
    }
   },
   "source": [
    "**Excercice 10:**\n",
    "\n",
    "Ecrire un programme qui permet de génèrer de manière aléatoire un nombre à deux chiffres, invite l'utilisateur à saisir un nombre à deux chiffres et détermine si l'utilisateur gagne selon les règles suivantes :\n",
    "* Si l'entrée de l'utilisateur correspond à la loterie (le nombre généré aléatoirement) dans l'ordre exact, la récompense est de 10 000€.\n",
    "* Sinon, si les deux chiffres entrés par l'utilisateur correspondent aux deux chiffres du numéro de loterie, la récompense est de 3 000€.\n",
    "* Sinon, si un chiffre dans l'entrée de l'utilisateur correspond à un chiffre dans le numéro de loterie, la récompense est de 1 000€.\n",
    "\n",
    "**Astuce :** Utiliser la fonction **random.randint(0, 99)** pour génèrer de manière aléatoire un nombre à deux chiffres. Cette fonction doit être accompagné par **import random** comme première instruction dans le code."
   ]
  },
  {
   "cell_type": "code",
   "execution_count": 79,
   "metadata": {
    "slideshow": {
     "slide_type": "notes"
    }
   },
   "outputs": [
    {
     "name": "stdout",
     "output_type": "stream",
     "text": [
      "91\n",
      "91\n",
      "Félicitations! Vous remportez 10 000€\n"
     ]
    }
   ],
   "source": [
    "import random\n",
    "nombre_a_deviner = random.randint(10, 99)\n",
    "print(nombre_a_deviner)\n",
    "unite = nombre_a_deviner % 10\n",
    "dizaine = (nombre_a_deviner - unite) // 10\n",
    "\n",
    "n = int(input(\"Rentrez un nombre à deux chiffres\"))\n",
    "print(n)\n",
    "unite_n = n % 10\n",
    "dizaine_n = (n - unite_n) // 10\n",
    " \n",
    "if n == nombre_a_deviner:\n",
    "    print(\"Félicitations! Vous remportez 10 000€\")\n",
    "elif n == unite * 10 + dizaine:\n",
    "    print(\"Félicitations! Vous remportez 3 000€\")\n",
    "elif dizaine_n==dizaine or dizaine_n == unite or unite_n == dizaine or unite_n == unite :\n",
    "    print(\"Félicitations! Vous remportez 1 000€\")\n",
    "else:\n",
    "    print((\":( Vous avez perdu\" ))\n",
    "\n"
   ]
  },
  {
   "cell_type": "code",
   "execution_count": 58,
   "metadata": {},
   "outputs": [
    {
     "name": "stdout",
     "output_type": "stream",
     "text": [
      "77\n",
      "0 :(\n"
     ]
    }
   ],
   "source": [
    "#correction\n",
    "\n",
    "import random\n",
    "a = random.randint(10, 99)\n",
    "print(a)\n",
    "\n",
    "n = int(input(\"please enter a number between 10 ans 99\"))\n",
    "\n",
    "x = a//10\n",
    "y = a%10\n",
    "\n",
    "w = n//10\n",
    "z = n%10\n",
    "\n",
    "if a==n:\n",
    "    print(\"10 000!\")\n",
    "elif x==n and y==w:\n",
    "    print(\"3000!\")\n",
    "elif x==w or y==w or y==z:\n",
    "    print(\"1000!\")\n",
    "else:\n",
    "    print(\"0 :(\")\n",
    "\n"
   ]
  },
  {
   "cell_type": "markdown",
   "metadata": {},
   "source": [
    "**Exercice 11:**\n",
    "    \n",
    "Ecrire un programme qui permet de calculer la somme des chiffres d'un entier *n* donné. Le nombre *n* doit être compris entre 10 et 20 (bornes incluses)."
   ]
  },
  {
   "cell_type": "code",
   "execution_count": 65,
   "metadata": {},
   "outputs": [
    {
     "name": "stdout",
     "output_type": "stream",
     "text": [
      "20\n",
      "2\n"
     ]
    }
   ],
   "source": [
    "import random\n",
    "n = random.randint(10, 20)\n",
    "print(n)\n",
    "unite_n = n%10\n",
    "dizaine_n = (n - unite_n)//10\n",
    "s = unite_n + dizaine_n\n",
    "print(s)\n"
   ]
  },
  {
   "cell_type": "code",
   "execution_count": 68,
   "metadata": {},
   "outputs": [
    {
     "name": "stdout",
     "output_type": "stream",
     "text": [
      "6\n"
     ]
    }
   ],
   "source": [
    "#correction\n",
    "x = int(input(\"select a number between 10 and 20\"))\n",
    "total = 0\n",
    "while x != 0:\n",
    "    total += x%10\n",
    "    x  = x//10\n",
    "print(total)"
   ]
  },
  {
   "cell_type": "markdown",
   "metadata": {},
   "source": [
    "**Exercice 12:**\n",
    "\n",
    "1. Ecrire un programme qui permet de générer aléatoirement deux nombres entre 0 et 9, de calculer leurs différences (en valeur absolue), puis d'inviter l'utilisateur à répondre à la question suivante *que vaut abs(number1 - number2)?*. Le programme doit permettre à l'utilisateur de répondre plusieurs fois jusqu'à la saisie de la bonne réponse.\n",
    "2. Modifier le programme précédent de telle sorte qu'il génère cinq occurences à la suite invitant à répondre à la question précédente. A la fin, le programme affiche le nombre moyen de tentatives qu'il a fallu à l'utilisateur pour répondre à une question."
   ]
  },
  {
   "cell_type": "code",
   "execution_count": 57,
   "metadata": {
    "tags": []
   },
   "outputs": [
    {
     "name": "stdout",
     "output_type": "stream",
     "text": [
      "0\n",
      "0\n",
      "Bravo !\n"
     ]
    }
   ],
   "source": [
    "import random\n",
    "x = random.randint(0, 9)\n",
    "y = random.randint(0, 9)\n",
    "print(x)\n",
    "print(y)\n",
    "answer = int(input(\"Que vaut abs(number1 - number2)\"))\n",
    "while not answer == abs(x-y):\n",
    "    answer = int(input(\"Mauvaise réponse : essayer à nouveau\"))\n",
    "print(\"Bravo !\")\n",
    "\n"
   ]
  },
  {
   "cell_type": "code",
   "execution_count": 84,
   "metadata": {
    "tags": []
   },
   "outputs": [
    {
     "name": "stdout",
     "output_type": "stream",
     "text": [
      "number1 =  5\n",
      "number2 =  0\n",
      "number1 =  2\n",
      "number2 =  0\n",
      "number1 =  9\n",
      "number2 =  1\n",
      "number1 =  3\n",
      "number2 =  7\n",
      "number1 =  9\n",
      "number2 =  2\n",
      "Le pourcentage de bonne réponses est :  -7.0\n",
      "Terminé !\n"
     ]
    }
   ],
   "source": [
    "import random\n",
    "nombre_tentative = 1\n",
    "for i in range (1, 6):\n",
    "    x = random.randint(0, 9) #number1\n",
    "    y = random.randint(0, 9) #number2\n",
    "    print(\"number1 = \", x)\n",
    "    print(\"number2 = \", y)\n",
    "    answer = int(input(\"Que vaut abs(number1 - number2)\")) #réponse utilisateur\n",
    "    \n",
    "    n = 1 #car on ne veut que 5 tentatives donc n est le compteur\n",
    "    while not answer == abs(x-y) and n<=5:\n",
    "        answer = int(input(\"Mauvaise réponse : essayer à nouveau\")) #continue tant que la réponse est mauvaise et le nombre de tentatives inférieur à 5\n",
    "        i +=1\n",
    "        nombre_tentative += 1\n",
    "print(\"Le pourcentage de bonne réponses est : \", ((1 - (nombre_tentative / 25)*100)))\n",
    "print(\"Terminé !\")\n",
    "    \n",
    "\n",
    "\n"
   ]
  },
  {
   "cell_type": "markdown",
   "metadata": {},
   "source": [
    "**Exercice 13:**\n",
    "\n",
    "Ecrire un programme qui permet de calculer le nombre de mots dans une phrase saisie par l'utilisateur."
   ]
  },
  {
   "cell_type": "code",
   "execution_count": 74,
   "metadata": {
    "tags": []
   },
   "outputs": [
    {
     "name": "stdout",
     "output_type": "stream",
     "text": [
      "4\n",
      "['aa', 'bb', 'cc', 'dd']\n"
     ]
    }
   ],
   "source": [
    "#correction\n",
    "text=\"aa bb cc dd\"\n",
    "l = text.split()\n",
    "print(len(l))\n",
    "print(l) "
   ]
  },
  {
   "cell_type": "markdown",
   "metadata": {
    "slideshow": {
     "slide_type": "slide"
    }
   },
   "source": [
    "---\n",
    "\n",
    "## 4. Pour s'entraîner\n",
    "\n",
    "**Exercice 14:**\n",
    "    \n",
    "Soit la variable my_input = \"zoophysiology\". Ecrire un script qui permet d'afficher l'un des messages suivants en fonction du nombre maximum de *o* consécutifs dans la variable *my_input*. Par exemple, le script doit afficher \"I like studying birds! I want to become an ornithologist!\" parce qu'il y a deux *o* consécutifs, même s'il y a aussi des *o* individual.\n",
    "Ignorer les *o* majuscules - recherchez que les *o* minuscules.\n",
    "\n",
    "* Si \"o\" apparaît trois fois ou plus de suite, afficher le message \"I like going to the zoo!\"  \n",
    "* Si \"o\" apparaît deux fois, afficher le message \"I like studying birds! I want to become an ornithologist!\"  \n",
    "* Si \"o\" apparaît une seule fois, afficher le message \"I like studying fish! I want to become an ichthyologist!\"  \n",
    "* Si \"o\" n'apparaît pas dans la variable *my_input*, afficher le message \"I miss going to the zoo!\"  \n",
    "\n",
    "**Astuce :** Utiliser l'opérateur **in** qui renvoie **True** si la première chaîne se trouve dans la deuxième chaîne. "
   ]
  },
  {
   "cell_type": "code",
   "execution_count": 72,
   "metadata": {
    "slideshow": {
     "slide_type": "notes"
    }
   },
   "outputs": [
    {
     "name": "stdout",
     "output_type": "stream",
     "text": [
      "nop\n"
     ]
    }
   ],
   "source": [
    "#correction\n",
    "my_input = \"zoophysiology\"\n",
    "\n",
    "if \"ooo\" in my_input:\n",
    "    print(\"yes, it exists\")\n",
    "else:\n",
    "    print(\"nop\")"
   ]
  },
  {
   "cell_type": "markdown",
   "metadata": {
    "slideshow": {
     "slide_type": "slide"
    }
   },
   "source": [
    "**Exercice 15:**\n",
    "    \n",
    "Créer quatre variables nommées *team_1* et *team_2*, représentant deux noms d'équipes, et *team_1_score* et *team_2_score*, représentant les scores de ces deux équipes. \n",
    "Une équipe gagne si son score est supérieur à l'autre score de l'autre équipe.\n",
    " \n",
    "Ecrire un premier script qui permet d'afficher les messages suivants selon les valeurs entrées, ceci en utilisant seulement les quatres variables créées :\n",
    "* Si une équipe bat l'autre, affichez: \"\\[winner\\] beat \\[loser\\] by \\[margin\\]\"\n",
    "* Si aucune des équipes n'a gagné, affichez: \"\\[team_1\\] played \\[team_2\\] and it was a tie\"\n",
    "\n",
    "Ecrire un deuxième script qui permet d'afficher les mêmes messages mais en ajoutant trois variables de plus :\n",
    "* La variable *winner* pour définir l'équipe gagnante  \n",
    "* La variable *loser* pour définier l'équipe perdante  \n",
    "* La variable *margin* pour définir la différence entre les deux scores \n"
   ]
  },
  {
   "cell_type": "code",
   "execution_count": null,
   "metadata": {
    "slideshow": {
     "slide_type": "notes"
    }
   },
   "outputs": [],
   "source": []
  },
  {
   "cell_type": "code",
   "execution_count": null,
   "metadata": {
    "slideshow": {
     "slide_type": "notes"
    }
   },
   "outputs": [],
   "source": []
  },
  {
   "cell_type": "markdown",
   "metadata": {
    "slideshow": {
     "slide_type": "slide"
    }
   },
   "source": [
    "**Exercice 16:**\n",
    "    \n",
    "L'Indice de Masse Corporelle (IMC) permet d'estimer le poids idéal en fonction de la taille. Son calcul correspond au poids en kilogrammes divisé par le carré de la taille en mètre (IMC = poids en kg/taille² en m). Le chiffre obtenu permet d'estimer la corpulence et éventuellement le surpoids ou l'obésité chez l'adulte, homme ou femme.\n",
    "L'interprétation de l'IMC pour les personnes de 16 ans et plus est la suivante :\n",
    "* Moins de 18.5: Underweight\n",
    "* Entre 18.5 et 24.9: Normal\n",
    "* Entre 25.0 et 29.9: Overweight\n",
    "* Plus que 30.0: Obese\n",
    "\n",
    "Ecrire un programme qui permet de saisir un poids en *pounds* et une taille en *inches*, de calculer et d'afficher l'IMC à deux valeurs après la virgule, et d'afficher l'interprétation la plus adéquate. Notez qu'un *pound* équivaut à 0,45359237 kilogrammes et qu'un *inch* équivaut à 0,0254 mètre.  \n",
    "\n",
    "**Astuce :** Pour afficher deux valeurs après la virgule, utilisez la fonction **format(nom_variable, \".2f\")**. Exemple : **print('La moyenne est :', format(moyenne, \".2f\"))**"
   ]
  },
  {
   "cell_type": "code",
   "execution_count": null,
   "metadata": {
    "slideshow": {
     "slide_type": "notes"
    }
   },
   "outputs": [],
   "source": []
  },
  {
   "cell_type": "markdown",
   "metadata": {},
   "source": [
    "**Exercice 17:**\n",
    "\n",
    "Ecrire un programme qui affiche un triangle d'étoiles de taille donnée, par exemple si on entre 6, le programme affiche:\n",
    "```\n",
    "*\n",
    "**\n",
    "***\n",
    "****\n",
    "*****\n",
    "******\n",
    "```"
   ]
  },
  {
   "cell_type": "code",
   "execution_count": null,
   "metadata": {
    "tags": []
   },
   "outputs": [],
   "source": []
  },
  {
   "cell_type": "markdown",
   "metadata": {},
   "source": [
    "**Exercice 18:**\n",
    "\n",
    "Même exercice mais cette fois la sortie est\n",
    "```\n",
    "     *\n",
    "    **         \n",
    "   ***\n",
    "  ****\n",
    " *****\n",
    "******\n",
    "```"
   ]
  },
  {
   "cell_type": "code",
   "execution_count": null,
   "metadata": {
    "tags": []
   },
   "outputs": [],
   "source": []
  },
  {
   "cell_type": "markdown",
   "metadata": {},
   "source": [
    "**Exercice 19:**\n",
    "\n",
    "Ecrire un programme qui calcule, étant donné un entier *n* rentré par l'utilisateur, la plus grande puissance de *n* inférieure à un million."
   ]
  },
  {
   "cell_type": "code",
   "execution_count": null,
   "metadata": {
    "tags": []
   },
   "outputs": [],
   "source": []
  },
  {
   "cell_type": "code",
   "execution_count": 71,
   "metadata": {},
   "outputs": [
    {
     "name": "stdout",
     "output_type": "stream",
     "text": [
      "3\n",
      "['aa', 'bb', 'cc']\n"
     ]
    }
   ],
   "source": [
    "#fonctions utiles pour la khôlle :\n",
    "\n",
    "text= \"aa bb cc\"\n",
    "l = text.split()\n",
    "print(len(l))\n",
    "print(l)"
   ]
  }
 ],
 "metadata": {
  "celltoolbar": "Diaporama",
  "interpreter": {
   "hash": "0faca331356619687a021b55f4877f1520437b7ba6fca2432afad9cfa580b99d"
  },
  "kernelspec": {
   "display_name": "Python 3.9.7 64-bit ('l1-python': conda)",
   "name": "python3"
  },
  "language_info": {
   "codemirror_mode": {
    "name": "ipython",
    "version": 3
   },
   "file_extension": ".py",
   "mimetype": "text/x-python",
   "name": "python",
   "nbconvert_exporter": "python",
   "pygments_lexer": "ipython3",
   "version": "3.9.7"
  }
 },
 "nbformat": 4,
 "nbformat_minor": 4
}
