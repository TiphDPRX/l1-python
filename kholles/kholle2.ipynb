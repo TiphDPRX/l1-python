{
 "cells": [
  {
   "cell_type": "code",
   "execution_count": 7,
   "metadata": {},
   "outputs": [
    {
     "data": {
      "text/plain": [
       "12.5"
      ]
     },
     "execution_count": 7,
     "metadata": {},
     "output_type": "execute_result"
    }
   ],
   "source": [
    "\n",
    "\n",
    "\n",
    "list1 = [10, 15]\n",
    "\n",
    "def moyenne(list):\n",
    "    somme = 0\n",
    "    moyen = 0\n",
    "    for i in range(len(list)):\n",
    "        somme += list[i]\n",
    "    moyen = somme /len(list)\n",
    "    return moyen\n",
    "\n",
    "moyenne(list1)\n"
   ]
  },
  {
   "cell_type": "code",
   "execution_count": 12,
   "metadata": {},
   "outputs": [
    {
     "name": "stdout",
     "output_type": "stream",
     "text": [
      "None\n"
     ]
    }
   ],
   "source": [
    "sudoku = [[1, 2, 3, 4], [2, 3, 4, 1], [3, 4, 1, 2], [4, 1, 2, 3]]\n",
    "def valide_colonne(n, sudoku):\n",
    "    for i in range(len(sudoku)):\n",
    "        for j in range(len(sudoku)):\n",
    "            l = sudoku[i][0]\n",
    "            if sudoku[i][j] != l:\n",
    "                return True\n",
    "            else:\n",
    "                return\n",
    "\n",
    "\n",
    "print(valide_colonne(4, sudoku))\n"
   ]
  },
  {
   "cell_type": "code",
   "execution_count": null,
   "metadata": {},
   "outputs": [],
   "source": []
  }
 ],
 "metadata": {
  "interpreter": {
   "hash": "0faca331356619687a021b55f4877f1520437b7ba6fca2432afad9cfa580b99d"
  },
  "kernelspec": {
   "display_name": "Python 3.9.7 64-bit ('l1-python': conda)",
   "language": "python",
   "name": "python3"
  },
  "language_info": {
   "codemirror_mode": {
    "name": "ipython",
    "version": 3
   },
   "file_extension": ".py",
   "mimetype": "text/x-python",
   "name": "python",
   "nbconvert_exporter": "python",
   "pygments_lexer": "ipython3",
   "version": "3.9.7"
  },
  "orig_nbformat": 4
 },
 "nbformat": 4,
 "nbformat_minor": 2
}
