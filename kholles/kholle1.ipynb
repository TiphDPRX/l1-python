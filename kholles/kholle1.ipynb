{
 "cells": [
  {
   "cell_type": "code",
   "execution_count": 19,
   "metadata": {},
   "outputs": [
    {
     "name": "stdout",
     "output_type": "stream",
     "text": [
      "123456\n",
      "6\n"
     ]
    }
   ],
   "source": [
    "n = int(input(\"enter a number\"))\n",
    "print(n)\n",
    "print(str(n)[len(str(n))-1])"
   ]
  },
  {
   "cell_type": "code",
   "execution_count": 17,
   "metadata": {},
   "outputs": [
    {
     "name": "stdout",
     "output_type": "stream",
     "text": [
      "je vais me promener\n"
     ]
    }
   ],
   "source": [
    "meteo_samedi=\"soleil\"\n",
    "meteo_dimanche=\"pluie\"\n",
    "\n",
    "if meteo_samedi==\"soleil\" and meteo_dimanche==\"soleil\":\n",
    "    print(\"je pars en week end\")\n",
    "elif (meteo_samedi==\"pluie\" and meteo_dimanche==\"soleil\") or meteo_samedi==\"soleil\" and meteo_dimanche==\"pluie\":\n",
    "    print(\"je vais me promener\")\n",
    "else :\n",
    "    print(\"je reste au lit tout le week end\")"
   ]
  },
  {
   "cell_type": "code",
   "execution_count": 22,
   "metadata": {},
   "outputs": [
    {
     "name": "stdout",
     "output_type": "stream",
     "text": [
      "4\n"
     ]
    }
   ],
   "source": [
    "x = int(input(\"entrer un nombre entier\"))\n",
    "n=0\n",
    "while n**2 <= x:\n",
    "    n+=1\n",
    "print(n)\n",
    "\n",
    "\n",
    "\n"
   ]
  },
  {
   "cell_type": "code",
   "execution_count": null,
   "metadata": {},
   "outputs": [],
   "source": []
  }
 ],
 "metadata": {
  "interpreter": {
   "hash": "0faca331356619687a021b55f4877f1520437b7ba6fca2432afad9cfa580b99d"
  },
  "kernelspec": {
   "display_name": "Python 3.9.7 64-bit ('l1-python': conda)",
   "name": "python3"
  },
  "language_info": {
   "codemirror_mode": {
    "name": "ipython",
    "version": 3
   },
   "file_extension": ".py",
   "mimetype": "text/x-python",
   "name": "python",
   "nbconvert_exporter": "python",
   "pygments_lexer": "ipython3",
   "version": "3.9.7"
  },
  "orig_nbformat": 4
 },
 "nbformat": 4,
 "nbformat_minor": 2
}
